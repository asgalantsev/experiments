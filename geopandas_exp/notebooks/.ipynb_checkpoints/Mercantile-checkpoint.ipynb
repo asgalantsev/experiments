{
 "cells": [
  {
   "cell_type": "code",
   "execution_count": 1,
   "id": "b0942e64-f59f-4b5c-b2f7-380668138296",
   "metadata": {},
   "outputs": [
    {
     "name": "stdout",
     "output_type": "stream",
     "text": [
      "Collecting mercantile\n",
      "  Downloading mercantile-1.2.1-py3-none-any.whl.metadata (4.8 kB)\n",
      "Collecting click>=3.0 (from mercantile)\n",
      "  Downloading click-8.3.0-py3-none-any.whl.metadata (2.6 kB)\n",
      "Downloading mercantile-1.2.1-py3-none-any.whl (14 kB)\n",
      "Downloading click-8.3.0-py3-none-any.whl (107 kB)\n",
      "Installing collected packages: click, mercantile\n",
      "\u001b[2K   \u001b[90m━━━━━━━━━━━━━━━━━━━━━━━━━━━━━━━━━━━━━━━━\u001b[0m \u001b[32m2/2\u001b[0m [mercantile]\n",
      "\u001b[1A\u001b[2KSuccessfully installed click-8.3.0 mercantile-1.2.1\n"
     ]
    }
   ],
   "source": [
    "!pip install mercantile"
   ]
  },
  {
   "cell_type": "code",
   "execution_count": 10,
   "id": "bba31ae3-eada-4694-944e-19c94c4b66aa",
   "metadata": {},
   "outputs": [
    {
     "data": {
      "text/plain": [
       "Tile(x=26, y=48, z=7)"
      ]
     },
     "execution_count": 10,
     "metadata": {},
     "output_type": "execute_result"
    }
   ],
   "source": [
    "import mercantile\n",
    "\n",
    "mercantile.tile(-105.0, 40.0, 7)"
   ]
  },
  {
   "cell_type": "code",
   "execution_count": 8,
   "id": "d2c5faa8-474b-4c01-9ae3-ca423c77ed63",
   "metadata": {},
   "outputs": [
    {
     "data": {
      "text/plain": [
       "LngLatBbox(west=-180.0, south=0.0, east=0.0, north=85.0511287798066)"
      ]
     },
     "execution_count": 8,
     "metadata": {},
     "output_type": "execute_result"
    }
   ],
   "source": [
    "mercantile.bounds(mercantile.Tile(x=0, y=0, z=1))"
   ]
  },
  {
   "cell_type": "code",
   "execution_count": 13,
   "id": "14eeddeb-c889-423d-88c7-e43d3d86cde5",
   "metadata": {},
   "outputs": [
    {
     "data": {
      "text/plain": [
       "'000231010'"
      ]
     },
     "execution_count": 13,
     "metadata": {},
     "output_type": "execute_result"
    }
   ],
   "source": [
    "mercantile.quadkey(26,48,9)"
   ]
  },
  {
   "cell_type": "code",
   "execution_count": null,
   "id": "04536e23-df98-4709-834c-8740e18f5c3e",
   "metadata": {},
   "outputs": [],
   "source": []
  },
  {
   "cell_type": "code",
   "execution_count": null,
   "id": "2785e607-a025-46ab-a200-77f52d187737",
   "metadata": {},
   "outputs": [],
   "source": []
  },
  {
   "cell_type": "code",
   "execution_count": null,
   "id": "3f0ccc4c-66a3-4622-9503-841507d77676",
   "metadata": {},
   "outputs": [],
   "source": []
  }
 ],
 "metadata": {
  "kernelspec": {
   "display_name": "Python 3 (ipykernel)",
   "language": "python",
   "name": "python3"
  },
  "language_info": {
   "codemirror_mode": {
    "name": "ipython",
    "version": 3
   },
   "file_extension": ".py",
   "mimetype": "text/x-python",
   "name": "python",
   "nbconvert_exporter": "python",
   "pygments_lexer": "ipython3",
   "version": "3.11.13"
  }
 },
 "nbformat": 4,
 "nbformat_minor": 5
}
