{
 "cells": [
  {
   "cell_type": "code",
   "execution_count": 1,
   "id": "f59aca1b-4a04-47e5-9714-1efee1d97f58",
   "metadata": {},
   "outputs": [
    {
     "name": "stdout",
     "output_type": "stream",
     "text": [
      "Collecting geographiclib\n",
      "  Downloading geographiclib-2.1-py3-none-any.whl.metadata (1.6 kB)\n",
      "Downloading geographiclib-2.1-py3-none-any.whl (40 kB)\n",
      "Installing collected packages: geographiclib\n",
      "Successfully installed geographiclib-2.1\n"
     ]
    }
   ],
   "source": [
    "!pip install geographiclib"
   ]
  },
  {
   "cell_type": "code",
   "execution_count": 2,
   "id": "5f96393a-fdad-4257-9645-8b194e4d301d",
   "metadata": {},
   "outputs": [],
   "source": [
    "from geographiclib.geodesic import Geodesic\n",
    "\n",
    "geod = Geodesic.WGS84"
   ]
  },
  {
   "cell_type": "code",
   "execution_count": 3,
   "id": "fd171077-85c8-4714-9d35-12ab3b5cbd93",
   "metadata": {},
   "outputs": [],
   "source": [
    "result = geod.Inverse(48.8566, 2.3522, 40.7128, -74.0060)"
   ]
  },
  {
   "cell_type": "code",
   "execution_count": 4,
   "id": "672aeecd-6162-4bf2-9703-dd1e0bed07fc",
   "metadata": {},
   "outputs": [
    {
     "data": {
      "text/plain": [
       "{'lat1': 48.8566,\n",
       " 'lon1': 2.3522,\n",
       " 'lat2': 40.7128,\n",
       " 'lon2': -74.006,\n",
       " 'a12': 52.65327789438424,\n",
       " 's12': 5852935.2917667655,\n",
       " 'azi1': -68.17391680380199,\n",
       " 'azi2': -126.27595539831582}"
      ]
     },
     "execution_count": 4,
     "metadata": {},
     "output_type": "execute_result"
    }
   ],
   "source": [
    "result"
   ]
  }
 ],
 "metadata": {
  "kernelspec": {
   "display_name": "Python 3 (ipykernel)",
   "language": "python",
   "name": "python3"
  },
  "language_info": {
   "codemirror_mode": {
    "name": "ipython",
    "version": 3
   },
   "file_extension": ".py",
   "mimetype": "text/x-python",
   "name": "python",
   "nbconvert_exporter": "python",
   "pygments_lexer": "ipython3",
   "version": "3.11.13"
  }
 },
 "nbformat": 4,
 "nbformat_minor": 5
}
